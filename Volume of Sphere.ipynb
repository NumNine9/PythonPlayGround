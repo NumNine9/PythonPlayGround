{
 "cells": [
  {
   "cell_type": "code",
   "execution_count": 3,
   "metadata": {},
   "outputs": [
    {
     "name": "stdout",
     "output_type": "stream",
     "text": [
      "Enter raduis of radius of sphere: 28\n",
      "1045.3333333333333\n"
     ]
    }
   ],
   "source": [
    "import math\n",
    "\n",
    "p = math.pi\n",
    "\n",
    "constant = 4/3   #Value of constant \n",
    "radius = int(input('Enter raduis of radius of sphere: ')) #user input\n",
    "radius_square = radius*radius    #finding the square of radius\n",
    "volume = constant*radius_square #applying the volume equation \n",
    "print(volume)             #printing the result  ....in units cubed"
   ]
  },
  {
   "cell_type": "code",
   "execution_count": null,
   "metadata": {},
   "outputs": [],
   "source": []
  }
 ],
 "metadata": {
  "kernelspec": {
   "display_name": "Python 3",
   "language": "python",
   "name": "python3"
  },
  "language_info": {
   "codemirror_mode": {
    "name": "ipython",
    "version": 3
   },
   "file_extension": ".py",
   "mimetype": "text/x-python",
   "name": "python",
   "nbconvert_exporter": "python",
   "pygments_lexer": "ipython3",
   "version": "3.7.4"
  }
 },
 "nbformat": 4,
 "nbformat_minor": 2
}
