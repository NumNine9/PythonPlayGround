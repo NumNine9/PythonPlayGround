{
 "cells": [
  {
   "cell_type": "code",
   "execution_count": null,
   "metadata": {},
   "outputs": [
    {
     "name": "stdout",
     "output_type": "stream",
     "text": [
      "Enter number: \n"
     ]
    }
   ],
   "source": [
    "while True:\n",
    "    a = int(input(print('Enter number: ')))\n",
    "\n",
    "    if a%2==0:\n",
    "        print('EVEN')\n",
    "    else:\n",
    "        print('ODD')\n",
    "        "
   ]
  },
  {
   "cell_type": "markdown",
   "metadata": {},
   "source": [
    "5##### "
   ]
  }
 ],
 "metadata": {
  "kernelspec": {
   "display_name": "Python 3",
   "language": "python",
   "name": "python3"
  }
 },
 "nbformat": 4,
 "nbformat_minor": 2
}
