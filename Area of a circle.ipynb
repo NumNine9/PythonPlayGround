{
 "cells": [
  {
   "cell_type": "code",
   "execution_count": 1,
   "metadata": {},
   "outputs": [
    {
     "name": "stdout",
     "output_type": "stream",
     "text": [
      "Enter radius: 23\n",
      "Area: 1661.902514\n",
      "Enter radius: 1\n",
      "Area: 3.141593\n",
      "Enter radius: 5\n",
      "Area: 78.539816\n",
      "Enter radius: 4\n",
      "Area: 50.265482\n",
      "Enter radius: 3\n",
      "Area: 28.274334\n",
      "Enter radius: 5\n",
      "Area: 78.539816\n",
      "Enter radius: 6\n",
      "Area: 113.097336\n",
      "Enter radius: 78\n",
      "Area: 19113.449704\n",
      "Enter radius: 8\n",
      "Area: 201.061930\n",
      "Enter radius: 7\n",
      "Area: 153.938040\n",
      "Enter radius: 8\n",
      "Area: 201.061930\n",
      "Enter radius: 9\n",
      "Area: 254.469005\n",
      "Enter radius: 0\n",
      "Area: 0.000000\n"
     ]
    }
   ],
   "source": [
    "#calculate the area of a circle\n",
    "from math import pi                 #this is to get an approx value for pi\n",
    "\n",
    "a = 9                    #predifining the value of the radius\n",
    "\n",
    "while a>0:               #to keep the program iterate forever\n",
    "    \n",
    "    a = float(input('Enter radius: '))  #user enters the radiu\n",
    "    \n",
    "    b = a*a         #this is to calculate r(^2)\n",
    "    \n",
    "    area = pi*b     #using the formula pi (x) r(^2)\n",
    "    \n",
    "    print('Area: %f' %(area)) #output pi"
   ]
  },
  {
   "cell_type": "code",
   "execution_count": null,
   "metadata": {},
   "outputs": [],
   "source": []
  }
 ],
 "metadata": {
  "kernelspec": {
   "display_name": "Python 3",
   "language": "python",
   "name": "python3"
  },
  "language_info": {
   "codemirror_mode": {
    "name": "ipython",
    "version": 3
   },
   "file_extension": ".py",
   "mimetype": "text/x-python",
   "name": "python",
   "nbconvert_exporter": "python",
   "pygments_lexer": "ipython3",
   "version": "3.7.4"
  }
 },
 "nbformat": 4,
 "nbformat_minor": 2
}
